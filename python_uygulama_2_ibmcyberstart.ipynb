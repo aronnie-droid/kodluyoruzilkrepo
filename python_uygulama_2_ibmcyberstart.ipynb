{
  "nbformat": 4,
  "nbformat_minor": 0,
  "metadata": {
    "colab": {
      "provenance": []
    },
    "kernelspec": {
      "name": "python3",
      "display_name": "Python 3"
    },
    "language_info": {
      "name": "python"
    }
  },
  "cells": [
    {
      "cell_type": "code",
      "source": [
        "import math"
      ],
      "metadata": {
        "id": "5nO9-9xl5R1i"
      },
      "execution_count": 21,
      "outputs": []
    },
    {
      "cell_type": "code",
      "source": [
        "# 1. Noktaların Tanımlanması\n",
        "points = [(1, 2), (4, 6), (5, 1), (9, 7)]"
      ],
      "metadata": {
        "id": "xSSSeoDC5U8w"
      },
      "execution_count": 22,
      "outputs": []
    },
    {
      "cell_type": "code",
      "source": [
        "# 2. Öklid Mesafesi İçin Bir Fonksiyon Yazma\n",
        "def euclideanDistance(point1, point2):\n",
        "    return math.sqrt((point1[0] - point2[0]) ** 2 + (point1[1] - point2[1]) ** 2)"
      ],
      "metadata": {
        "id": "65khGuhX5W0R"
      },
      "execution_count": 23,
      "outputs": []
    },
    {
      "cell_type": "code",
      "source": [
        "# 3. Mesafelerin Hesaplanması\n",
        "distances = []\n",
        "for i in range(len(points)):\n",
        "    for j in range(i + 1, len(points)):\n",
        "        distance = euclideanDistance(points[i], points[j])\n",
        "        distances.append(distance)"
      ],
      "metadata": {
        "id": "j0_4YrMO5Zn6"
      },
      "execution_count": 24,
      "outputs": []
    },
    {
      "cell_type": "code",
      "source": [
        "# 4. Minimum Mesafenin Bulunması\n",
        "min_distance = min(distances)\n",
        "\n",
        "print(\"Minimum Öklid Mesafesi:\", min_distance)"
      ],
      "metadata": {
        "colab": {
          "base_uri": "https://localhost:8080/"
        },
        "id": "lbdAXdU85fyJ",
        "outputId": "f4359f7b-b5d6-432d-99e1-ee04cfa63dcb"
      },
      "execution_count": 25,
      "outputs": [
        {
          "output_type": "stream",
          "name": "stdout",
          "text": [
            "Minimum Öklid Mesafesi: 4.123105625617661\n"
          ]
        }
      ]
    }
  ]
}